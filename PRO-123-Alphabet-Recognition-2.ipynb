{
 "cells": [
  {
   "cell_type": "code",
   "execution_count": 10,
   "metadata": {},
   "outputs": [],
   "source": [
    "import cv2\n",
    "import pandas as pd\n",
    "import numpy as np\n",
    "import seaborn as sns\n",
    "import matplotlib.pyplot as plt\n",
    "from sklearn.datasets import fetch_openml\n",
    "from sklearn.model_selection import train_test_split\n",
    "from sklearn.linear_model import LogisticRegression\n",
    "from sklearn.metrics import accuracy_score\n",
    "from PIL import Image\n",
    "import PIL.ImageOps\n",
    "import os,ssl,time\n",
    "import time"
   ]
  },
  {
   "cell_type": "code",
   "execution_count": 5,
   "metadata": {},
   "outputs": [],
   "source": [
    "y = pd.read_csv(\"C:/Users/ADMIN/Desktop/WhiteHat_Jr/General/Data/Alphabet-Recognition-1.csv\")[\"labels\"]\n",
    "X = np.load(\"C:/Users/ADMIN/Desktop/WhiteHat_Jr/General/Data/Alphabet-Recognition-Image-1.npz\")[\"arr_0\"]"
   ]
  },
  {
   "cell_type": "code",
   "execution_count": 6,
   "metadata": {},
   "outputs": [],
   "source": [
    "X_train,X_test,y_train,y_test = train_test_split(X,y,random_state=9,test_size=0.25)\n",
    "\n",
    "X_train_scaled = X_train/255\n",
    "X_test_scaled = X_test/255  "
   ]
  },
  {
   "cell_type": "code",
   "execution_count": 7,
   "metadata": {},
   "outputs": [
    {
     "name": "stderr",
     "output_type": "stream",
     "text": [
      "c:\\Users\\ADMIN\\AppData\\Local\\Programs\\Python\\Python310\\lib\\site-packages\\sklearn\\linear_model\\_sag.py:350: ConvergenceWarning: The max_iter was reached which means the coef_ did not converge\n",
      "  warnings.warn(\n"
     ]
    }
   ],
   "source": [
    "clf = LogisticRegression(solver='saga', multi_class='multinomial').fit(X_train_scaled,y_train)"
   ]
  },
  {
   "cell_type": "code",
   "execution_count": 9,
   "metadata": {},
   "outputs": [
    {
     "name": "stdout",
     "output_type": "stream",
     "text": [
      "Accuracy :  1.0\n"
     ]
    }
   ],
   "source": [
    "y_pred = clf.predict(X_test_scaled)\n",
    "accuracy = accuracy_score(y_test,y_pred)\n",
    "print(\"Accuracy : \", accuracy)"
   ]
  },
  {
   "cell_type": "code",
   "execution_count": 20,
   "metadata": {},
   "outputs": [],
   "source": [
    "cap = cv2.VideoCapture(0)\n",
    "\n",
    "t_end = time.time() + 25\n",
    "while time.time() < t_end:\n",
    "    try:\n",
    "        ret,frame = cap.read()\n",
    "        gray = cv2.cvtColor(frame,cv2.COLOR_BGR2GRAY)\n",
    "\n",
    "        height, width = gray.shape()\n",
    "        upper_left = (int(width / 2 - 56), int(height / 2 - 56))\n",
    "        bottom_right = (int(width / 2 + 56), int(height / 2 + 56))\n",
    "        cv2.rectangle(gray, upper_left, bottom_right, (0, 255, 0), 2)\n",
    "\n",
    "        roi = gray[upper_left[1]:bottom_right[1], upper_left[0]:bottom_right[0]]\n",
    "\n",
    "        im_pil =   Image.fromarray(roi)\n",
    "        image_bg = im_pil.convert(\"L\")\n",
    "\n",
    "        image_bg_resized = image_bg.resize((28,28),Image.ANTIALIAS)\n",
    "\n",
    "        image_bg_resized_inverted = PIL.ImageOps.invert(image_bg_resized)\n",
    "        \n",
    "        max_filter = 20\n",
    "        min_pixel = np.percentile(image_bg_resized_inverted,max_filter)\n",
    "        image_bg_resized_inverted_scaled = np.clip(image_bg_resized_inverted - min_pixel, 0, 255)\n",
    "\n",
    "        max_pixel = np.max(image_bg_resized_inverted)\n",
    "        image_bg_resized_inverted_scaled = np.asarray(image_bg_resized_inverted_scaled)/max_pixel\n",
    "\n",
    "        test_sample = np.array(image_bg_resized_inverted_scaled).reshape(1,174)\n",
    "        test_pred = clf.predict(test_sample)\n",
    "        print(\"Prediction : \", test_pred)\n",
    "        cv2.imshow(\"frame\",gray)\n",
    "\n",
    "        if cv2.waitKey(1) & 0xFF == ord('q'):\n",
    "            break\n",
    "\n",
    "    except Exception as e:\n",
    "        pass\n",
    "\n",
    "\n",
    "cap.release()\n",
    "cv2.destroyAllWindows()"
   ]
  }
 ],
 "metadata": {
  "kernelspec": {
   "display_name": "Python 3.10.5 64-bit",
   "language": "python",
   "name": "python3"
  },
  "language_info": {
   "codemirror_mode": {
    "name": "ipython",
    "version": 3
   },
   "file_extension": ".py",
   "mimetype": "text/x-python",
   "name": "python",
   "nbconvert_exporter": "python",
   "pygments_lexer": "ipython3",
   "version": "3.10.5"
  },
  "orig_nbformat": 4,
  "vscode": {
   "interpreter": {
    "hash": "31671a60cee805c34c73116577b485118ff3a75c458d3004d49632c19702ac60"
   }
  }
 },
 "nbformat": 4,
 "nbformat_minor": 2
}
